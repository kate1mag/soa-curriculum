{
  "nbformat": 4,
  "nbformat_minor": 0,
  "metadata": {
    "colab": {
      "provenance": [],
      "authorship_tag": "ABX9TyOPmMcZmXg500FP+VlSHcPq",
      "include_colab_link": true
    },
    "kernelspec": {
      "name": "python3",
      "display_name": "Python 3"
    },
    "language_info": {
      "name": "python"
    }
  },
  "cells": [
    {
      "cell_type": "markdown",
      "metadata": {
        "id": "view-in-github",
        "colab_type": "text"
      },
      "source": [
        "<a href=\"https://colab.research.google.com/github/kate1mag/soa-curriculum/blob/main/Untitled0.ipynb\" target=\"_parent\"><img src=\"https://colab.research.google.com/assets/colab-badge.svg\" alt=\"Open In Colab\"/></a>"
      ]
    },
    {
      "cell_type": "markdown",
      "source": [
        "Задайте строку и посчитайте количество символов в ней."
      ],
      "metadata": {
        "id": "x2Bt6PyQgvrE"
      }
    },
    {
      "cell_type": "code",
      "source": [
        "#Задание №1\n",
        "string = \"Привет, мир!\"\n",
        "print(\"Длина строки\", \"'\" + string + \"':\", len(string))"
      ],
      "metadata": {
        "colab": {
          "base_uri": "https://localhost:8080/"
        },
        "id": "vmSe4Wesg3LE",
        "outputId": "2c8fffb1-3cb3-48d2-f772-ca2f89ea67c8"
      },
      "execution_count": 18,
      "outputs": [
        {
          "output_type": "stream",
          "name": "stdout",
          "text": [
            "Длина строки 'Привет, мир!': 12\n"
          ]
        }
      ]
    },
    {
      "cell_type": "markdown",
      "source": [
        "Задайте строку и переведите все символы в верхний регистр."
      ],
      "metadata": {
        "id": "xdhCr1yQhPcR"
      }
    },
    {
      "cell_type": "code",
      "source": [
        "#Задание №2\n",
        "string = \"привет, мир\"\n",
        "print(\"Исходная строка:\", string)\n",
        "print(\"Символы в верхних регистрах\", string.upper())"
      ],
      "metadata": {
        "colab": {
          "base_uri": "https://localhost:8080/"
        },
        "id": "JtbEC3x1hSux",
        "outputId": "1984be4d-6108-44ef-e9e0-3ad9e5b5ca69"
      },
      "execution_count": 20,
      "outputs": [
        {
          "output_type": "stream",
          "name": "stdout",
          "text": [
            "Исходная строка: привет, мир\n",
            "Символы в верхних регистрах ПРИВЕТ, МИР\n"
          ]
        }
      ]
    },
    {
      "cell_type": "markdown",
      "source": [
        "Задайте строку и поменяйте в ней любое слово на слово “пациент”."
      ],
      "metadata": {
        "id": "UhwfHYCAhiWN"
      }
    },
    {
      "cell_type": "code",
      "source": [
        "#Задание №3\n",
        "string = \"Привет, мир!\"\n",
        "print(\"Исходная строка:\", string)\n",
        "print(\"Замена слова:\", string.replace(\"мир\", \"пациент\"))"
      ],
      "metadata": {
        "colab": {
          "base_uri": "https://localhost:8080/"
        },
        "id": "Jz6vbB9zhl7F",
        "outputId": "2c43bfa2-20ca-4109-aad9-6fb3230aa9e6"
      },
      "execution_count": 21,
      "outputs": [
        {
          "output_type": "stream",
          "name": "stdout",
          "text": [
            "Исходная строка: Привет, мир!\n",
            "Замена слова: Привет, пациент!\n"
          ]
        }
      ]
    },
    {
      "cell_type": "markdown",
      "source": [
        "Задайте строку и определите входит ли в нее слово, введенное Вами с клавиатуры."
      ],
      "metadata": {
        "id": "AmPh0P4siYK8"
      }
    },
    {
      "cell_type": "code",
      "source": [
        "#Задание №4\n",
        "string = \"Привет, мир\"\n",
        "my_word = input(\"Введите слово: \")\n",
        "if string.find(my_word) != -1:\n",
        "  print(\"Слово '\" + my_word + \"' входит в строку '\" + string + \"'\")\n",
        "else:\n",
        "  print(\"Слово \" + my_word + \"' не входит в строку '\" + string + \"'\")"
      ],
      "metadata": {
        "colab": {
          "base_uri": "https://localhost:8080/"
        },
        "id": "40TYHgLLidv-",
        "outputId": "5c89cef9-7620-48b3-d01f-422731d9f676"
      },
      "execution_count": 14,
      "outputs": [
        {
          "output_type": "stream",
          "name": "stdout",
          "text": [
            "Введите слово: мир\n",
            "Слово 'мир' входит в строку 'Привет, мир'\n"
          ]
        }
      ]
    },
    {
      "cell_type": "code",
      "source": [
        "#Задание №4\n",
        "string = \"Привет, мир\"\n",
        "my_word = input(\"Введите слово: \")\n",
        "if string.find(my_word) != -1:\n",
        "  print(\"Слово '\" + my_word + \"' входит в строку '\" + string + \"'\")\n",
        "else:\n",
        "  print(\"Слово '\" + my_word + \"' не входит в строку '\" + string + \"'\")"
      ],
      "metadata": {
        "colab": {
          "base_uri": "https://localhost:8080/"
        },
        "id": "-1unyAO1jHek",
        "outputId": "c7b147f7-6baa-454b-c6e5-e650444b1af5"
      },
      "execution_count": 17,
      "outputs": [
        {
          "output_type": "stream",
          "name": "stdout",
          "text": [
            "Введите слово: пациент\n",
            "Слово 'пациент' не входит в строку 'Привет, мир'\n"
          ]
        }
      ]
    },
    {
      "cell_type": "markdown",
      "source": [
        "Задайте строку и выведите на экран первый и последний символы."
      ],
      "metadata": {
        "id": "H21R7DuRkCAO"
      }
    },
    {
      "cell_type": "code",
      "source": [
        "#Задание №5\n",
        "string = \"Привет мир\"\n",
        "print(\"Первый символ строки '\" + string + \"': \" + string[0])\n",
        "print(\"Последний символ строки '\" + string + \"': \" + string[-1])"
      ],
      "metadata": {
        "colab": {
          "base_uri": "https://localhost:8080/"
        },
        "id": "5M-y6U0vkIGI",
        "outputId": "2167383a-e65a-4e33-f8ad-722ca6eb2b07"
      },
      "execution_count": 23,
      "outputs": [
        {
          "output_type": "stream",
          "name": "stdout",
          "text": [
            "Первый символ строки 'Привет мир': П\n",
            "Последний символ строки 'Привет мир': р\n"
          ]
        }
      ]
    }
  ]
}